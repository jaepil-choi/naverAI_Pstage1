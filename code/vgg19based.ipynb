{
 "cells": [
  {
   "cell_type": "code",
   "execution_count": 1,
   "id": "artificial-force",
   "metadata": {},
   "outputs": [
    {
     "name": "stdout",
     "output_type": "stream",
     "text": [
      "\n",
      "     active environment : base\n",
      "    active env location : /opt/conda\n",
      "            shell level : 1\n",
      "       user config file : /opt/ml/.condarc\n",
      " populated config files : \n",
      "          conda version : 4.9.2\n",
      "    conda-build version : 3.18.11\n",
      "         python version : 3.7.10.final.0\n",
      "       virtual packages : __cuda=10.1=0\n",
      "                          __glibc=2.27=0\n",
      "                          __unix=0=0\n",
      "                          __archspec=1=x86_64\n",
      "       base environment : /opt/conda  (writable)\n",
      "           channel URLs : https://repo.anaconda.com/pkgs/main/linux-64\n",
      "                          https://repo.anaconda.com/pkgs/main/noarch\n",
      "                          https://repo.anaconda.com/pkgs/r/linux-64\n",
      "                          https://repo.anaconda.com/pkgs/r/noarch\n",
      "          package cache : /opt/conda/pkgs\n",
      "                          /opt/ml/.conda/pkgs\n",
      "       envs directories : /opt/conda/envs\n",
      "                          /opt/ml/.conda/envs\n",
      "               platform : linux-64\n",
      "             user-agent : conda/4.9.2 requests/2.25.1 CPython/3.7.10 Linux/4.4.0-59-generic ubuntu/18.04.4 glibc/2.27\n",
      "                UID:GID : 0:0\n",
      "             netrc file : /opt/ml/.netrc\n",
      "           offline mode : False\n",
      "\n",
      "\n",
      "Note: you may need to restart the kernel to use updated packages.\n"
     ]
    }
   ],
   "source": [
    "%conda info"
   ]
  },
  {
   "cell_type": "markdown",
   "id": "engaged-theorem",
   "metadata": {},
   "source": [
    "# VGG19 batch norm 기반 모델"
   ]
  },
  {
   "cell_type": "code",
   "execution_count": 2,
   "id": "bottom-floating",
   "metadata": {},
   "outputs": [
    {
     "data": {
      "text/plain": [
       "PosixPath('/opt/ml')"
      ]
     },
     "execution_count": 2,
     "metadata": {},
     "output_type": "execute_result"
    }
   ],
   "source": [
    "import os\n",
    "from pathlib import Path\n",
    "\n",
    "BASE_DIR = Path('.').resolve().parent\n",
    "BASE_DIR"
   ]
  },
  {
   "cell_type": "code",
   "execution_count": 3,
   "id": "commercial-wyoming",
   "metadata": {},
   "outputs": [],
   "source": [
    "import numpy as np\n",
    "import pandas as pd\n",
    "\n",
    "import matplotlib.pyplot as plt\n",
    "import matplotlib.image as mpimg\n",
    "import seaborn as sns"
   ]
  },
  {
   "cell_type": "code",
   "execution_count": 4,
   "id": "alike-eight",
   "metadata": {},
   "outputs": [],
   "source": [
    "import torch\n",
    "import torch.nn as nn\n",
    "import torch.nn.functional as F\n",
    "\n",
    "from torch.utils.data import Dataset, DataLoader, Subset\n",
    "import torch.optim as optim\n",
    "\n",
    "import torchvision\n",
    "import albumentations as A\n",
    "from albumentations.pytorch import ToTensorV2"
   ]
  },
  {
   "cell_type": "code",
   "execution_count": 5,
   "id": "lonely-rolling",
   "metadata": {},
   "outputs": [],
   "source": [
    "import random\n",
    "\n",
    "seed = 123\n",
    "\n",
    "torch.manual_seed(seed)\n",
    "torch.cuda.manual_seed(seed)\n",
    "torch.cuda.manual_seed_all(seed)  # if use multi-GPU\n",
    "torch.backends.cudnn.deterministic = True\n",
    "torch.backends.cudnn.benchmark = False\n",
    "np.random.seed(seed)\n",
    "random.seed(seed)\n",
    "\n",
    "# TODO: seed_everything도 util로 만들어놓기"
   ]
  },
  {
   "cell_type": "code",
   "execution_count": 6,
   "id": "anonymous-bruce",
   "metadata": {},
   "outputs": [
    {
     "data": {
      "text/plain": [
       "device(type='cuda', index=0)"
      ]
     },
     "execution_count": 6,
     "metadata": {},
     "output_type": "execute_result"
    }
   ],
   "source": [
    "device = torch.device('cuda:0' if torch.cuda.is_available() else 'cpu')\n",
    "device"
   ]
  },
  {
   "cell_type": "code",
   "execution_count": 7,
   "id": "breathing-invite",
   "metadata": {},
   "outputs": [],
   "source": [
    "from tqdm import tqdm"
   ]
  },
  {
   "cell_type": "code",
   "execution_count": 8,
   "id": "upset-momentum",
   "metadata": {},
   "outputs": [],
   "source": [
    "import warnings \n",
    "warnings.filterwarnings('ignore')"
   ]
  },
  {
   "cell_type": "markdown",
   "id": "norman-circus",
   "metadata": {},
   "source": [
    "## hyperparams"
   ]
  },
  {
   "cell_type": "code",
   "execution_count": 9,
   "id": "detected-assignment",
   "metadata": {},
   "outputs": [],
   "source": [
    "df_path = BASE_DIR / 'output' / 'all_df.pkl'\n",
    "df = pd.read_pickle(df_path)\n",
    "\n",
    "model_name = 'VGG19'\n",
    "use_pretrained = True\n",
    "freeze_backbone = False\n",
    "\n",
    "val_split = 0.4\n",
    "batch_size = 2\n",
    "num_workers = 0\n",
    "num_classes = 18\n",
    "\n",
    "num_epochs = 64\n",
    "lr = 1e-4\n",
    "lr_decay_step = 10\n",
    "\n",
    "train_log_interval = 20\n",
    "name = 'vgg_based'"
   ]
  },
  {
   "cell_type": "markdown",
   "id": "forbidden-edition",
   "metadata": {},
   "source": [
    "## Load Dataset, Dataloader"
   ]
  },
  {
   "cell_type": "code",
   "execution_count": 10,
   "id": "upset-buddy",
   "metadata": {},
   "outputs": [],
   "source": [
    "class MaskDataset(Dataset):\n",
    "    def __init__(self, pkl_path, transform=None, target_transform=None):\n",
    "        self.df = pd.read_pickle(pkl_path)\n",
    "        self.transform = transform\n",
    "        self.target_transform = target_transform\n",
    "        \n",
    "    def __len__(self):\n",
    "        return len(self.df)\n",
    "\n",
    "    def __getitem__(self, idx):\n",
    "        if torch.is_tensor(idx):\n",
    "            idx = idx.tolist()\n",
    "        \n",
    "        row = self.df.iloc[idx, :]\n",
    "        img_name = row['path'] + row['filename']\n",
    "        img_path = row['filepath']\n",
    "        img_np = mpimg.imread(img_path) # H, W, C\n",
    "        \n",
    "        label_gender = row['gender_code'] # TODO: 미리 category 숫자로 바꿔놓아야 한다. \n",
    "        label_age = row['age']\n",
    "        label_mask = row['mask_code']\n",
    "        label_cat = row['cat_code']\n",
    "        \n",
    "        if self.transform:\n",
    "            image = self.transform(image=img_np)\n",
    "        if self.target_transform:\n",
    "            pass\n",
    "        \n",
    "        sample = {'image': img_np, 'gender': label_gender, 'age': label_age, 'mask': label_mask, 'label': label_cat}\n",
    "#         sample = {'image': img_np, 'label': label_cat}\n",
    "        \n",
    "        return sample"
   ]
  },
  {
   "cell_type": "code",
   "execution_count": 11,
   "id": "invalid-program",
   "metadata": {},
   "outputs": [
    {
     "data": {
      "text/plain": [
       "18900"
      ]
     },
     "execution_count": 11,
     "metadata": {},
     "output_type": "execute_result"
    }
   ],
   "source": [
    "mask_dataset = MaskDataset(pkl_path=df_path,)\n",
    "len(mask_dataset)"
   ]
  },
  {
   "cell_type": "code",
   "execution_count": 12,
   "id": "human-failing",
   "metadata": {},
   "outputs": [
    {
     "name": "stdout",
     "output_type": "stream",
     "text": [
      "CPU times: user 364 ms, sys: 0 ns, total: 364 ms\n",
      "Wall time: 365 ms\n"
     ]
    }
   ],
   "source": [
    "%%time\n",
    "\n",
    "transform = A.Compose([\n",
    "    A.RandomCrop(width=200, height=300),\n",
    "    A.HorizontalFlip(p=0.5),\n",
    "    A.RandomBrightnessContrast(p=0.2),\n",
    "    A.Normalize(),\n",
    "    ToTensorV2(), \n",
    "])\n",
    "\n",
    "transformed_dataset = MaskDataset(pkl_path=df_path, transform=transform)"
   ]
  },
  {
   "cell_type": "code",
   "execution_count": 13,
   "id": "analyzed-state",
   "metadata": {},
   "outputs": [
    {
     "name": "stdout",
     "output_type": "stream",
     "text": [
      "CPU times: user 0 ns, sys: 0 ns, total: 0 ns\n",
      "Wall time: 97.8 µs\n"
     ]
    },
    {
     "data": {
      "text/plain": [
       "<torch.utils.data.dataloader.DataLoader at 0x7f02f7b6dad0>"
      ]
     },
     "execution_count": 13,
     "metadata": {},
     "output_type": "execute_result"
    }
   ],
   "source": [
    "%%time\n",
    "\n",
    "dataloader = DataLoader(transformed_dataset, batch_size=32, shuffle=True, num_workers=10)\n",
    "dataloader"
   ]
  },
  {
   "cell_type": "markdown",
   "id": "alien-actor",
   "metadata": {},
   "source": [
    "## Model"
   ]
  },
  {
   "cell_type": "markdown",
   "id": "characteristic-findings",
   "metadata": {},
   "source": [
    "### Define model"
   ]
  },
  {
   "cell_type": "code",
   "execution_count": 14,
   "id": "hawaiian-anxiety",
   "metadata": {
    "scrolled": true,
    "tags": []
   },
   "outputs": [
    {
     "data": {
      "text/plain": [
       "Sequential(\n",
       "  (0): Conv2d(3, 64, kernel_size=(3, 3), stride=(1, 1), padding=(1, 1))\n",
       "  (1): BatchNorm2d(64, eps=1e-05, momentum=0.1, affine=True, track_running_stats=True)\n",
       "  (2): ReLU(inplace=True)\n",
       "  (3): Conv2d(64, 64, kernel_size=(3, 3), stride=(1, 1), padding=(1, 1))\n",
       "  (4): BatchNorm2d(64, eps=1e-05, momentum=0.1, affine=True, track_running_stats=True)\n",
       "  (5): ReLU(inplace=True)\n",
       "  (6): MaxPool2d(kernel_size=2, stride=2, padding=0, dilation=1, ceil_mode=False)\n",
       "  (7): Conv2d(64, 128, kernel_size=(3, 3), stride=(1, 1), padding=(1, 1))\n",
       "  (8): BatchNorm2d(128, eps=1e-05, momentum=0.1, affine=True, track_running_stats=True)\n",
       "  (9): ReLU(inplace=True)\n",
       "  (10): Conv2d(128, 128, kernel_size=(3, 3), stride=(1, 1), padding=(1, 1))\n",
       "  (11): BatchNorm2d(128, eps=1e-05, momentum=0.1, affine=True, track_running_stats=True)\n",
       "  (12): ReLU(inplace=True)\n",
       "  (13): MaxPool2d(kernel_size=2, stride=2, padding=0, dilation=1, ceil_mode=False)\n",
       "  (14): Conv2d(128, 256, kernel_size=(3, 3), stride=(1, 1), padding=(1, 1))\n",
       "  (15): BatchNorm2d(256, eps=1e-05, momentum=0.1, affine=True, track_running_stats=True)\n",
       "  (16): ReLU(inplace=True)\n",
       "  (17): Conv2d(256, 256, kernel_size=(3, 3), stride=(1, 1), padding=(1, 1))\n",
       "  (18): BatchNorm2d(256, eps=1e-05, momentum=0.1, affine=True, track_running_stats=True)\n",
       "  (19): ReLU(inplace=True)\n",
       "  (20): Conv2d(256, 256, kernel_size=(3, 3), stride=(1, 1), padding=(1, 1))\n",
       "  (21): BatchNorm2d(256, eps=1e-05, momentum=0.1, affine=True, track_running_stats=True)\n",
       "  (22): ReLU(inplace=True)\n",
       "  (23): Conv2d(256, 256, kernel_size=(3, 3), stride=(1, 1), padding=(1, 1))\n",
       "  (24): BatchNorm2d(256, eps=1e-05, momentum=0.1, affine=True, track_running_stats=True)\n",
       "  (25): ReLU(inplace=True)\n",
       "  (26): MaxPool2d(kernel_size=2, stride=2, padding=0, dilation=1, ceil_mode=False)\n",
       "  (27): Conv2d(256, 512, kernel_size=(3, 3), stride=(1, 1), padding=(1, 1))\n",
       "  (28): BatchNorm2d(512, eps=1e-05, momentum=0.1, affine=True, track_running_stats=True)\n",
       "  (29): ReLU(inplace=True)\n",
       "  (30): Conv2d(512, 512, kernel_size=(3, 3), stride=(1, 1), padding=(1, 1))\n",
       "  (31): BatchNorm2d(512, eps=1e-05, momentum=0.1, affine=True, track_running_stats=True)\n",
       "  (32): ReLU(inplace=True)\n",
       "  (33): Conv2d(512, 512, kernel_size=(3, 3), stride=(1, 1), padding=(1, 1))\n",
       "  (34): BatchNorm2d(512, eps=1e-05, momentum=0.1, affine=True, track_running_stats=True)\n",
       "  (35): ReLU(inplace=True)\n",
       "  (36): Conv2d(512, 512, kernel_size=(3, 3), stride=(1, 1), padding=(1, 1))\n",
       "  (37): BatchNorm2d(512, eps=1e-05, momentum=0.1, affine=True, track_running_stats=True)\n",
       "  (38): ReLU(inplace=True)\n",
       "  (39): MaxPool2d(kernel_size=2, stride=2, padding=0, dilation=1, ceil_mode=False)\n",
       "  (40): Conv2d(512, 512, kernel_size=(3, 3), stride=(1, 1), padding=(1, 1))\n",
       "  (41): BatchNorm2d(512, eps=1e-05, momentum=0.1, affine=True, track_running_stats=True)\n",
       "  (42): ReLU(inplace=True)\n",
       "  (43): Conv2d(512, 512, kernel_size=(3, 3), stride=(1, 1), padding=(1, 1))\n",
       "  (44): BatchNorm2d(512, eps=1e-05, momentum=0.1, affine=True, track_running_stats=True)\n",
       "  (45): ReLU(inplace=True)\n",
       "  (46): Conv2d(512, 512, kernel_size=(3, 3), stride=(1, 1), padding=(1, 1))\n",
       "  (47): BatchNorm2d(512, eps=1e-05, momentum=0.1, affine=True, track_running_stats=True)\n",
       "  (48): ReLU(inplace=True)\n",
       "  (49): Conv2d(512, 512, kernel_size=(3, 3), stride=(1, 1), padding=(1, 1))\n",
       "  (50): BatchNorm2d(512, eps=1e-05, momentum=0.1, affine=True, track_running_stats=True)\n",
       "  (51): ReLU(inplace=True)\n",
       "  (52): MaxPool2d(kernel_size=2, stride=2, padding=0, dilation=1, ceil_mode=False)\n",
       ")"
      ]
     },
     "execution_count": 14,
     "metadata": {},
     "output_type": "execute_result"
    }
   ],
   "source": [
    "model = torchvision.models.vgg19_bn(pretrained=True)\n",
    "model.classifier = nn.Sequential(\n",
    "    nn.Linear(512 * 7 * 7, 4096, bias=True),\n",
    "    nn.ReLU(inplace=True),\n",
    "    nn.Dropout(),\n",
    "    nn.Linear(4096, 4096),\n",
    "    nn.Dropout(),\n",
    "    nn.Linear(4096, num_classes),\n",
    ")\n",
    "\n",
    "model.features.requires_grad_(False)"
   ]
  },
  {
   "cell_type": "code",
   "execution_count": 15,
   "id": "facial-embassy",
   "metadata": {},
   "outputs": [
    {
     "data": {
      "text/plain": [
       "(512, 384, 3)"
      ]
     },
     "execution_count": 15,
     "metadata": {},
     "output_type": "execute_result"
    }
   ],
   "source": [
    "sample_img = mask_dataset[0]['image']\n",
    "sample_img.shape"
   ]
  },
  {
   "cell_type": "code",
   "execution_count": 16,
   "id": "regulation-paradise",
   "metadata": {},
   "outputs": [
    {
     "data": {
      "text/plain": [
       "<matplotlib.image.AxesImage at 0x7f02f1b58390>"
      ]
     },
     "execution_count": 16,
     "metadata": {},
     "output_type": "execute_result"
    },
    {
     "data": {
      "image/png": "[encoded data removed]",
      "text/plain": [
       "<Figure size 432x288 with 1 Axes>"
      ]
     },
     "metadata": {
      "needs_background": "light"
     },
     "output_type": "display_data"
    }
   ],
   "source": [
    "plt.imshow(sample_img)"
   ]
  },
  {
   "cell_type": "markdown",
   "id": "opened-paraguay",
   "metadata": {},
   "source": [
    "### Initialize parameters"
   ]
  },
  {
   "cell_type": "code",
   "execution_count": 17,
   "id": "incredible-british",
   "metadata": {},
   "outputs": [
    {
     "name": "stdout",
     "output_type": "stream",
     "text": [
      "64 | classifier.0.weight | torch.Size([4096, 25088]) | 102760448\n",
      "tensor([[-0.0030, -0.0036, -0.0059,  ..., -0.0020, -0.0024,  0.0053],\n",
      "        [-0.0003, -0.0013,  0.0004,  ..., -0.0049, -0.0036, -0.0044]],\n",
      "       grad_fn=<SliceBackward>)\n",
      "65 | classifier.0.bias | torch.Size([4096]) | 4096\n",
      "tensor([-0.0028,  0.0031], grad_fn=<SliceBackward>)\n",
      "66 | classifier.3.weight | torch.Size([4096, 4096]) | 16777216\n",
      "tensor([[ 0.0121, -0.0107, -0.0002,  ..., -0.0036,  0.0139,  0.0002],\n",
      "        [ 0.0144, -0.0035, -0.0119,  ...,  0.0033, -0.0102,  0.0114]],\n",
      "       grad_fn=<SliceBackward>)\n",
      "67 | classifier.3.bias | torch.Size([4096]) | 4096\n",
      "tensor([-0.0004,  0.0036], grad_fn=<SliceBackward>)\n",
      "68 | classifier.5.weight | torch.Size([18, 4096]) | 73728\n",
      "tensor([[ 0.0152,  0.0074,  0.0142,  ..., -0.0118, -0.0057, -0.0119],\n",
      "        [ 0.0110, -0.0067, -0.0050,  ..., -0.0139,  0.0060,  0.0048]],\n",
      "       grad_fn=<SliceBackward>)\n",
      "69 | classifier.5.bias | torch.Size([18]) | 18\n",
      "tensor([ 0.0110, -0.0066], grad_fn=<SliceBackward>)\n"
     ]
    }
   ],
   "source": [
    "# Check parameters\n",
    "\n",
    "with np.printoptions(precision=3):\n",
    "    total_param = 0\n",
    "    \n",
    "    for param_idx, (param_name, param) in enumerate(model.named_parameters()):\n",
    "        if param.requires_grad:\n",
    "            param_np = param.detach().cpu().numpy()\n",
    "            n_param = np.product(param.shape)\n",
    "            total_param += n_param\n",
    "            \n",
    "            print(f'{param_idx} | {param_name} | {param.shape} | {n_param}')\n",
    "            print(param[:2])"
   ]
  },
  {
   "cell_type": "code",
   "execution_count": 18,
   "id": "modified-reading",
   "metadata": {},
   "outputs": [],
   "source": [
    "# Initialize parameters\n",
    "\n",
    "for m in model.modules():\n",
    "    if isinstance(m, nn.Conv2d):\n",
    "        nn.init.kaiming_normal_(m.weight)\n",
    "        nn.init.zeros_(m.bias)\n",
    "    elif isinstance(m, nn.BatchNorm2d):\n",
    "        nn.init.constant_(m.weight, 1)\n",
    "        nn.init.constant_(m.bias, 0)\n",
    "    elif isinstance(m, nn.Linear):\n",
    "        nn.init.kaiming_normal_(m.weight)\n",
    "        nn.init.zeros_(m.bias)\n"
   ]
  },
  {
   "cell_type": "code",
   "execution_count": 19,
   "id": "amazing-northwest",
   "metadata": {},
   "outputs": [
    {
     "name": "stdout",
     "output_type": "stream",
     "text": [
      "64 | classifier.0.weight | torch.Size([4096, 25088]) | 102760448\n",
      "tensor([[-2.1360e-05, -2.1142e-02,  7.0124e-03,  ...,  1.1617e-02,\n",
      "         -5.0414e-03,  9.2589e-03],\n",
      "        [-1.4099e-02, -9.3115e-03,  3.5792e-03,  ..., -2.2065e-02,\n",
      "         -2.8509e-03,  1.3414e-02]], grad_fn=<SliceBackward>)\n",
      "65 | classifier.0.bias | torch.Size([4096]) | 4096\n",
      "tensor([0., 0.], grad_fn=<SliceBackward>)\n",
      "66 | classifier.3.weight | torch.Size([4096, 4096]) | 16777216\n",
      "tensor([[ 2.7362e-03,  1.6073e-02,  4.2078e-03,  ..., -2.1853e-03,\n",
      "          1.9446e-02,  3.4250e-03],\n",
      "        [-2.6390e-02, -3.8245e-02,  6.2452e-05,  ...,  1.4627e-02,\n",
      "          1.4495e-02, -1.9928e-02]], grad_fn=<SliceBackward>)\n",
      "67 | classifier.3.bias | torch.Size([4096]) | 4096\n",
      "tensor([0., 0.], grad_fn=<SliceBackward>)\n",
      "68 | classifier.5.weight | torch.Size([18, 4096]) | 73728\n",
      "tensor([[-0.0160,  0.0071, -0.0246,  ..., -0.0338, -0.0193, -0.0200],\n",
      "        [-0.0033,  0.0003,  0.0198,  ...,  0.0036, -0.0065,  0.0125]],\n",
      "       grad_fn=<SliceBackward>)\n",
      "69 | classifier.5.bias | torch.Size([18]) | 18\n",
      "tensor([0., 0.], grad_fn=<SliceBackward>)\n"
     ]
    }
   ],
   "source": [
    "# Check parameters\n",
    "\n",
    "with np.printoptions(precision=3):\n",
    "    total_param = 0\n",
    "    \n",
    "    for param_idx, (param_name, param) in enumerate(model.named_parameters()):\n",
    "        if param.requires_grad:\n",
    "            param_np = param.detach().cpu().numpy()\n",
    "            n_param = np.product(param.shape)\n",
    "            total_param += n_param\n",
    "            \n",
    "            print(f'{param_idx} | {param_name} | {param.shape} | {n_param}')\n",
    "            print(param[:2])"
   ]
  },
  {
   "cell_type": "markdown",
   "id": "hollywood-cooperation",
   "metadata": {},
   "source": [
    "### Define loss and optimizer"
   ]
  },
  {
   "cell_type": "code",
   "execution_count": 20,
   "id": "sufficient-freeze",
   "metadata": {},
   "outputs": [
    {
     "data": {
      "text/plain": [
       "CrossEntropyLoss()"
      ]
     },
     "execution_count": 20,
     "metadata": {},
     "output_type": "execute_result"
    }
   ],
   "source": [
    "loss = nn.CrossEntropyLoss()\n",
    "loss"
   ]
  },
  {
   "cell_type": "code",
   "execution_count": 21,
   "id": "marked-filling",
   "metadata": {},
   "outputs": [
    {
     "data": {
      "text/plain": [
       "Adam (\n",
       "Parameter Group 0\n",
       "    amsgrad: False\n",
       "    betas: (0.9, 0.999)\n",
       "    eps: 1e-08\n",
       "    lr: 0.0001\n",
       "    weight_decay: 0\n",
       ")"
      ]
     },
     "execution_count": 21,
     "metadata": {},
     "output_type": "execute_result"
    }
   ],
   "source": [
    "optimizer = optim.Adam(model.parameters(), lr=lr)\n",
    "optimizer"
   ]
  },
  {
   "cell_type": "markdown",
   "id": "classical-stick",
   "metadata": {},
   "source": [
    "## Train"
   ]
  },
  {
   "cell_type": "code",
   "execution_count": 54,
   "id": "signal-bulletin",
   "metadata": {},
   "outputs": [],
   "source": [
    "def func_eval(model, data_iter, device):\n",
    "    with torch.no_grad():\n",
    "        n_total = 0\n",
    "        n_correct = 0\n",
    "        \n",
    "        # To eval mode\n",
    "        model.eval()\n",
    "        \n",
    "        for data in data_iter:\n",
    "            \n",
    "            batch_in = data['image'].float().to(device)\n",
    "            batch_out = data['label']\n",
    "            \n",
    "            y_trgt = batch_out.to(device)\n",
    "            \n",
    "            model_pred = model(batch_in.view(-1, 3, 512, 384).to(device))\n",
    "            _, y_pred = torch.max(model_pred.data, 1)\n",
    "            \n",
    "            n_correct += (y_pred == y_trgt).sum().item()\n",
    "            n_total += batch_in.size(0)\n",
    "        \n",
    "        val_accr = (n_correct / n_total)\n",
    "        \n",
    "        # back to train mode\n",
    "        model.train()\n",
    "        \n",
    "    return val_accr"
   ]
  },
  {
   "cell_type": "code",
   "execution_count": 55,
   "id": "governmental-protest",
   "metadata": {},
   "outputs": [
    {
     "ename": "RuntimeError",
     "evalue": "Caught RuntimeError in DataLoader worker process 0.\nOriginal Traceback (most recent call last):\n  File \"/opt/conda/lib/python3.7/site-packages/torch/utils/data/_utils/worker.py\", line 178, in _worker_loop\n    data = fetcher.fetch(index)\n  File \"/opt/conda/lib/python3.7/site-packages/torch/utils/data/_utils/fetch.py\", line 47, in fetch\n    return self.collate_fn(data)\n  File \"/opt/conda/lib/python3.7/site-packages/torch/utils/data/_utils/collate.py\", line 74, in default_collate\n    return {key: default_collate([d[key] for d in batch]) for key in elem}\n  File \"/opt/conda/lib/python3.7/site-packages/torch/utils/data/_utils/collate.py\", line 74, in <dictcomp>\n    return {key: default_collate([d[key] for d in batch]) for key in elem}\n  File \"/opt/conda/lib/python3.7/site-packages/torch/utils/data/_utils/collate.py\", line 64, in default_collate\n    return default_collate([torch.as_tensor(b) for b in batch])\n  File \"/opt/conda/lib/python3.7/site-packages/torch/utils/data/_utils/collate.py\", line 55, in default_collate\n    return torch.stack(batch, 0, out=out)\nRuntimeError: Expected object of scalar type Float but got scalar type Byte for sequence element 1 in sequence argument at position #1 'tensors'\n",
     "output_type": "error",
     "traceback": [
      "\u001b[0;31m---------------------------------------------------------------------------\u001b[0m",
      "\u001b[0;31mRuntimeError\u001b[0m                              Traceback (most recent call last)",
      "\u001b[0;32m<ipython-input-55-03c57333cb86>\u001b[0m in \u001b[0;36m<module>\u001b[0;34m\u001b[0m\n\u001b[0;32m----> 1\u001b[0;31m \u001b[0mtrain_accr\u001b[0m \u001b[0;34m=\u001b[0m \u001b[0mfunc_eval\u001b[0m\u001b[0;34m(\u001b[0m\u001b[0mmodel\u001b[0m\u001b[0;34m,\u001b[0m \u001b[0mdataloader\u001b[0m\u001b[0;34m,\u001b[0m \u001b[0mdevice\u001b[0m\u001b[0;34m)\u001b[0m\u001b[0;34m\u001b[0m\u001b[0;34m\u001b[0m\u001b[0m\n\u001b[0m\u001b[1;32m      2\u001b[0m \u001b[0mtrain_accr\u001b[0m\u001b[0;34m\u001b[0m\u001b[0;34m\u001b[0m\u001b[0m\n",
      "\u001b[0;32m<ipython-input-54-597d903fa4cd>\u001b[0m in \u001b[0;36mfunc_eval\u001b[0;34m(model, data_iter, device)\u001b[0m\n\u001b[1;32m      7\u001b[0m         \u001b[0mmodel\u001b[0m\u001b[0;34m.\u001b[0m\u001b[0meval\u001b[0m\u001b[0;34m(\u001b[0m\u001b[0;34m)\u001b[0m\u001b[0;34m\u001b[0m\u001b[0;34m\u001b[0m\u001b[0m\n\u001b[1;32m      8\u001b[0m \u001b[0;34m\u001b[0m\u001b[0m\n\u001b[0;32m----> 9\u001b[0;31m         \u001b[0;32mfor\u001b[0m \u001b[0mdata\u001b[0m \u001b[0;32min\u001b[0m \u001b[0mdata_iter\u001b[0m\u001b[0;34m:\u001b[0m\u001b[0;34m\u001b[0m\u001b[0;34m\u001b[0m\u001b[0m\n\u001b[0m\u001b[1;32m     10\u001b[0m \u001b[0;34m\u001b[0m\u001b[0m\n\u001b[1;32m     11\u001b[0m             \u001b[0mbatch_in\u001b[0m \u001b[0;34m=\u001b[0m \u001b[0mdata\u001b[0m\u001b[0;34m[\u001b[0m\u001b[0;34m'image'\u001b[0m\u001b[0;34m]\u001b[0m\u001b[0;34m.\u001b[0m\u001b[0mfloat\u001b[0m\u001b[0;34m(\u001b[0m\u001b[0;34m)\u001b[0m\u001b[0;34m.\u001b[0m\u001b[0mto\u001b[0m\u001b[0;34m(\u001b[0m\u001b[0mdevice\u001b[0m\u001b[0;34m)\u001b[0m\u001b[0;34m\u001b[0m\u001b[0;34m\u001b[0m\u001b[0m\n",
      "\u001b[0;32m/opt/conda/lib/python3.7/site-packages/torch/utils/data/dataloader.py\u001b[0m in \u001b[0;36m__next__\u001b[0;34m(self)\u001b[0m\n\u001b[1;32m    817\u001b[0m             \u001b[0;32melse\u001b[0m\u001b[0;34m:\u001b[0m\u001b[0;34m\u001b[0m\u001b[0;34m\u001b[0m\u001b[0m\n\u001b[1;32m    818\u001b[0m                 \u001b[0;32mdel\u001b[0m \u001b[0mself\u001b[0m\u001b[0;34m.\u001b[0m\u001b[0m_task_info\u001b[0m\u001b[0;34m[\u001b[0m\u001b[0midx\u001b[0m\u001b[0;34m]\u001b[0m\u001b[0;34m\u001b[0m\u001b[0;34m\u001b[0m\u001b[0m\n\u001b[0;32m--> 819\u001b[0;31m                 \u001b[0;32mreturn\u001b[0m \u001b[0mself\u001b[0m\u001b[0;34m.\u001b[0m\u001b[0m_process_data\u001b[0m\u001b[0;34m(\u001b[0m\u001b[0mdata\u001b[0m\u001b[0;34m)\u001b[0m\u001b[0;34m\u001b[0m\u001b[0;34m\u001b[0m\u001b[0m\n\u001b[0m\u001b[1;32m    820\u001b[0m \u001b[0;34m\u001b[0m\u001b[0m\n\u001b[1;32m    821\u001b[0m     \u001b[0mnext\u001b[0m \u001b[0;34m=\u001b[0m \u001b[0m__next__\u001b[0m  \u001b[0;31m# Python 2 compatibility\u001b[0m\u001b[0;34m\u001b[0m\u001b[0;34m\u001b[0m\u001b[0m\n",
      "\u001b[0;32m/opt/conda/lib/python3.7/site-packages/torch/utils/data/dataloader.py\u001b[0m in \u001b[0;36m_process_data\u001b[0;34m(self, data)\u001b[0m\n\u001b[1;32m    844\u001b[0m         \u001b[0mself\u001b[0m\u001b[0;34m.\u001b[0m\u001b[0m_try_put_index\u001b[0m\u001b[0;34m(\u001b[0m\u001b[0;34m)\u001b[0m\u001b[0;34m\u001b[0m\u001b[0;34m\u001b[0m\u001b[0m\n\u001b[1;32m    845\u001b[0m         \u001b[0;32mif\u001b[0m \u001b[0misinstance\u001b[0m\u001b[0;34m(\u001b[0m\u001b[0mdata\u001b[0m\u001b[0;34m,\u001b[0m \u001b[0mExceptionWrapper\u001b[0m\u001b[0;34m)\u001b[0m\u001b[0;34m:\u001b[0m\u001b[0;34m\u001b[0m\u001b[0;34m\u001b[0m\u001b[0m\n\u001b[0;32m--> 846\u001b[0;31m             \u001b[0mdata\u001b[0m\u001b[0;34m.\u001b[0m\u001b[0mreraise\u001b[0m\u001b[0;34m(\u001b[0m\u001b[0;34m)\u001b[0m\u001b[0;34m\u001b[0m\u001b[0;34m\u001b[0m\u001b[0m\n\u001b[0m\u001b[1;32m    847\u001b[0m         \u001b[0;32mreturn\u001b[0m \u001b[0mdata\u001b[0m\u001b[0;34m\u001b[0m\u001b[0;34m\u001b[0m\u001b[0m\n\u001b[1;32m    848\u001b[0m \u001b[0;34m\u001b[0m\u001b[0m\n",
      "\u001b[0;32m/opt/conda/lib/python3.7/site-packages/torch/_utils.py\u001b[0m in \u001b[0;36mreraise\u001b[0;34m(self)\u001b[0m\n\u001b[1;32m    383\u001b[0m             \u001b[0;31m# (https://bugs.python.org/issue2651), so we work around it.\u001b[0m\u001b[0;34m\u001b[0m\u001b[0;34m\u001b[0m\u001b[0;34m\u001b[0m\u001b[0m\n\u001b[1;32m    384\u001b[0m             \u001b[0mmsg\u001b[0m \u001b[0;34m=\u001b[0m \u001b[0mKeyErrorMessage\u001b[0m\u001b[0;34m(\u001b[0m\u001b[0mmsg\u001b[0m\u001b[0;34m)\u001b[0m\u001b[0;34m\u001b[0m\u001b[0;34m\u001b[0m\u001b[0m\n\u001b[0;32m--> 385\u001b[0;31m         \u001b[0;32mraise\u001b[0m \u001b[0mself\u001b[0m\u001b[0;34m.\u001b[0m\u001b[0mexc_type\u001b[0m\u001b[0;34m(\u001b[0m\u001b[0mmsg\u001b[0m\u001b[0;34m)\u001b[0m\u001b[0;34m\u001b[0m\u001b[0;34m\u001b[0m\u001b[0m\n\u001b[0m",
      "\u001b[0;31mRuntimeError\u001b[0m: Caught RuntimeError in DataLoader worker process 0.\nOriginal Traceback (most recent call last):\n  File \"/opt/conda/lib/python3.7/site-packages/torch/utils/data/_utils/worker.py\", line 178, in _worker_loop\n    data = fetcher.fetch(index)\n  File \"/opt/conda/lib/python3.7/site-packages/torch/utils/data/_utils/fetch.py\", line 47, in fetch\n    return self.collate_fn(data)\n  File \"/opt/conda/lib/python3.7/site-packages/torch/utils/data/_utils/collate.py\", line 74, in default_collate\n    return {key: default_collate([d[key] for d in batch]) for key in elem}\n  File \"/opt/conda/lib/python3.7/site-packages/torch/utils/data/_utils/collate.py\", line 74, in <dictcomp>\n    return {key: default_collate([d[key] for d in batch]) for key in elem}\n  File \"/opt/conda/lib/python3.7/site-packages/torch/utils/data/_utils/collate.py\", line 64, in default_collate\n    return default_collate([torch.as_tensor(b) for b in batch])\n  File \"/opt/conda/lib/python3.7/site-packages/torch/utils/data/_utils/collate.py\", line 55, in default_collate\n    return torch.stack(batch, 0, out=out)\nRuntimeError: Expected object of scalar type Float but got scalar type Byte for sequence element 1 in sequence argument at position #1 'tensors'\n"
     ]
    }
   ],
   "source": [
    "train_accr = func_eval(model, dataloader, device)\n",
    "train_accr"
   ]
  },
  {
   "cell_type": "code",
   "execution_count": 61,
   "id": "union-ebony",
   "metadata": {},
   "outputs": [
    {
     "name": "stdout",
     "output_type": "stream",
     "text": [
      "<class 'torch.Tensor'>\n",
      "<class 'torch.Tensor'>\n",
      "tensor([10,  7,  4, 17], dtype=torch.int8)\n"
     ]
    }
   ],
   "source": [
    "for a in dataloader:\n",
    "    batchin = a['image']\n",
    "    batchout = a['label']\n",
    "    \n",
    "    print(type(batchin))\n",
    "    \n",
    "    print(type(batchout))\n",
    "    \n",
    "    print(batchout)\n",
    "    \n",
    "    break"
   ]
  },
  {
   "cell_type": "code",
   "execution_count": 63,
   "id": "constant-blake",
   "metadata": {},
   "outputs": [
    {
     "data": {
      "text/plain": [
       "array([ 0,  1,  2,  9, 10, 11,  6,  7,  8, 15, 16, 17, 12, 13, 14,  3,  4,\n",
       "        5], dtype=int8)"
      ]
     },
     "execution_count": 63,
     "metadata": {},
     "output_type": "execute_result"
    }
   ],
   "source": [
    "df.cat_code.unique()"
   ]
  },
  {
   "cell_type": "code",
   "execution_count": 68,
   "id": "labeled-chest",
   "metadata": {},
   "outputs": [
    {
     "data": {
      "text/plain": [
       "0"
      ]
     },
     "execution_count": 68,
     "metadata": {},
     "output_type": "execute_result"
    }
   ],
   "source": [
    "img = mask_dataset[0]['image']\n",
    "label = mask_dataset[0]['label']\n",
    "label"
   ]
  },
  {
   "cell_type": "code",
   "execution_count": 69,
   "id": "compliant-appearance",
   "metadata": {},
   "outputs": [
    {
     "data": {
      "text/plain": [
       "array([[[191, 190, 185],\n",
       "        [191, 190, 185],\n",
       "        [191, 190, 185],\n",
       "        ...,\n",
       "        [201, 200, 195],\n",
       "        [201, 200, 195],\n",
       "        [201, 200, 195]],\n",
       "\n",
       "       [[191, 190, 185],\n",
       "        [191, 190, 185],\n",
       "        [191, 190, 185],\n",
       "        ...,\n",
       "        [201, 200, 195],\n",
       "        [201, 200, 195],\n",
       "        [201, 200, 195]],\n",
       "\n",
       "       [[191, 190, 185],\n",
       "        [191, 190, 185],\n",
       "        [191, 190, 185],\n",
       "        ...,\n",
       "        [201, 200, 195],\n",
       "        [201, 200, 195],\n",
       "        [201, 200, 195]],\n",
       "\n",
       "       ...,\n",
       "\n",
       "       [[149,  97,  60],\n",
       "        [150,  98,  61],\n",
       "        [150,  98,  61],\n",
       "        ...,\n",
       "        [151,  94,  64],\n",
       "        [151,  94,  64],\n",
       "        [151,  94,  64]],\n",
       "\n",
       "       [[146,  94,  57],\n",
       "        [146,  94,  57],\n",
       "        [146,  94,  57],\n",
       "        ...,\n",
       "        [152,  95,  68],\n",
       "        [152,  95,  68],\n",
       "        [152,  95,  68]],\n",
       "\n",
       "       [[143,  91,  54],\n",
       "        [143,  91,  54],\n",
       "        [143,  91,  54],\n",
       "        ...,\n",
       "        [155,  94,  73],\n",
       "        [155,  94,  73],\n",
       "        [155,  94,  73]]], dtype=uint8)"
      ]
     },
     "execution_count": 69,
     "metadata": {},
     "output_type": "execute_result"
    }
   ],
   "source": [
    "img"
   ]
  },
  {
   "cell_type": "code",
   "execution_count": null,
   "id": "expressed-journalist",
   "metadata": {},
   "outputs": [],
   "source": []
  }
 ],
 "metadata": {
  "kernelspec": {
   "display_name": "Python 3",
   "language": "python",
   "name": "python3"
  },
  "language_info": {
   "codemirror_mode": {
    "name": "ipython",
    "version": 3
   },
   "file_extension": ".py",
   "mimetype": "text/x-python",
   "name": "python",
   "nbconvert_exporter": "python",
   "pygments_lexer": "ipython3",
   "version": "3.7.10"
  }
 },
 "nbformat": 4,
 "nbformat_minor": 5
}
